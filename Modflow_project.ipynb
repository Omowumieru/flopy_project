{
 "cells": [
  {
   "cell_type": "code",
   "execution_count": 1,
   "metadata": {},
   "outputs": [],
   "source": [
    "import os\n",
    "import flopy as f\n",
    "import numpy as np\n",
    "\n",
    "import matplotlib.pyplot as plt\n",
    "import pandas as pd"
   ]
  },
  {
   "cell_type": "code",
   "execution_count": 2,
   "metadata": {},
   "outputs": [],
   "source": [
    "ws = \"work/ex11\"\n",
    "name = \"modflow_project\"\n",
    "exe_name = \"exe/mf6.exe\""
   ]
  },
  {
   "cell_type": "code",
   "execution_count": 3,
   "metadata": {},
   "outputs": [],
   "source": [
    "# create simulation\n",
    "sim = f.mf6.MFSimulation(sim_name=name, sim_ws=ws, exe_name=exe_name)"
   ]
  },
  {
   "cell_type": "code",
   "execution_count": 4,
   "metadata": {},
   "outputs": [],
   "source": [
    "# Temporal discretization\n",
    "nper = 1\n",
    "perlen = 8640000\n",
    "nstp = 1\n",
    "steady = [True]\n",
    "tdis = f.mf6.ModflowTdis(sim, time_units=\"seconds\", nper = 1, perioddata=[(8640000, 1, 1)], steady=steady)"
   ]
  },
  {
   "cell_type": "code",
   "execution_count": 5,
   "metadata": {},
   "outputs": [],
   "source": [
    "ims = f.mf6.ModflowIms(sim)"
   ]
  },
  {
   "cell_type": "code",
   "execution_count": 6,
   "metadata": {},
   "outputs": [],
   "source": [
    "# create model object\n",
    "gwf = f.mf6.ModflowGwf(sim, modelname=name)"
   ]
  },
  {
   "cell_type": "code",
   "execution_count": 7,
   "metadata": {},
   "outputs": [],
   "source": [
    "# Spatial Discretization\n",
    "nlay, nrow, ncol = 1, 25, 20\n",
    "delr=delc=50\n",
    "top=120\n",
    "botm=75\n",
    "ibound = np.ones((nlay, nrow, ncol), dtype=np.int64)\n",
    "ibound[:,:23,:4]=0\n",
    "ibound[:,1:23,19]=0\n",
    "\n",
    "Dis = f.mf6.ModflowGwfdis(gwf, nlay=nlay, nrow=nrow, ncol=ncol,\n",
    "                            top=top, botm=botm,delr=delr, delc=delc, idomain=ibound)"
   ]
  },
  {
   "cell_type": "code",
   "execution_count": 9,
   "metadata": {},
   "outputs": [
    {
     "name": "stdout",
     "output_type": "stream",
     "text": [
      "WARNING: Package with type ic already exists. Replacing existing package.\n"
     ]
    }
   ],
   "source": [
    "# Defining initial conditions\n",
    "\n",
    "start=120\n",
    "ic = f.mf6.ModflowGwfic(gwf, strt=start)"
   ]
  },
  {
   "cell_type": "code",
   "execution_count": 10,
   "metadata": {},
   "outputs": [],
   "source": [
    "# Node Properties Definition\n",
    "kh=kva=10e-5\n",
    "laytyp=[1]\n",
    "\n",
    "npf = f.mf6.ModflowGwfnpf(gwf,save_specific_discharge=True, icelltype=laytyp, k=kh, k33=kva)"
   ]
  },
  {
   "cell_type": "code",
   "execution_count": 11,
   "metadata": {},
   "outputs": [],
   "source": [
    "# Recharge package\n",
    "rch = f.mf6.ModflowGwfrcha(gwf, recharge=2e-8)"
   ]
  },
  {
   "cell_type": "code",
   "execution_count": 12,
   "metadata": {},
   "outputs": [],
   "source": [
    "# Defining Constant Head\n",
    "# chd_rec= {0:[[0,0,5,100.0],[0,0,6,100.0],[0,0,7,100.0],[0,0,8,100.0],[0,0,9,100.0],[0,0,10,100.0],[0,nrow-1,5,95]]}\n",
    "# # np.array([chd_rec], dtype=[(\"i\",\"<i8\"), (\"j\",\"<i8\"),(\"k\",\"<i8\"),(\"start\",\"<f8\")])\n",
    "\n",
    "chdd = []\n",
    "layer = 0\n",
    "for i in range(5,20):\n",
    "    chdd.append(((layer, 0, i), 100))\n",
    "    if i != range(5,20):\n",
    "        chdd.append(((layer, nrow-1, i), 95))\n",
    "# ,[0,0,10,100.0],[0,0,11,100.0], [0,0,12,100.0],[0,0,13,100.0],[0,0,14,100.0],[0,0,15,100.0], [0,nrow-1,0,95],[0,nrow-1,1,95],[0,nrow-1,2,95],[0,nrow-1,3,95],[0,nrow-1,4,95]\n",
    "\n",
    "chd=f.mf6.ModflowGwfchd(gwf, stress_period_data=chdd)\n",
    "# ipr=1\n",
    "# ra = chd.stress_period_data.get_data(key=ipr)\n",
    "# ra\n",
    "# chd_rec\n"
   ]
  },
  {
   "cell_type": "code",
   "execution_count": 40,
   "metadata": {},
   "outputs": [
    {
     "data": {
      "text/plain": [
       "rec.array([((0, 0, 5), 100.), ((0, 24, 5),  95.), ((0, 0, 6), 100.),\n",
       "           ((0, 24, 6),  95.), ((0, 0, 7), 100.), ((0, 24, 7),  95.),\n",
       "           ((0, 0, 8), 100.), ((0, 24, 8),  95.), ((0, 0, 9), 100.),\n",
       "           ((0, 24, 9),  95.), ((0, 0, 10), 100.), ((0, 24, 10),  95.),\n",
       "           ((0, 0, 11), 100.), ((0, 24, 11),  95.), ((0, 0, 12), 100.),\n",
       "           ((0, 24, 12),  95.), ((0, 0, 13), 100.), ((0, 24, 13),  95.),\n",
       "           ((0, 0, 14), 100.), ((0, 24, 14),  95.), ((0, 0, 15), 100.),\n",
       "           ((0, 24, 15),  95.), ((0, 0, 16), 100.), ((0, 24, 16),  95.),\n",
       "           ((0, 0, 17), 100.), ((0, 24, 17),  95.), ((0, 0, 18), 100.),\n",
       "           ((0, 24, 18),  95.), ((0, 0, 19), 100.), ((0, 24, 19),  95.)],\n",
       "          dtype=[('cellid', 'O'), ('head', '<f8')])"
      ]
     },
     "execution_count": 40,
     "metadata": {},
     "output_type": "execute_result"
    }
   ],
   "source": [
    "iper = 0\n",
    "ra = chd.stress_period_data.get_data(key=iper)\n",
    "ra"
   ]
  },
  {
   "cell_type": "code",
   "execution_count": 14,
   "metadata": {},
   "outputs": [],
   "source": [
    "headfile=f\"{name}.hds\"\n",
    "head_filerecord=[headfile]\n",
    "budgetfile=f\"{name}.cbb\"\n",
    "budget_filerecord=[budgetfile]\n",
    "saverecord=[(\"HEAD\",\"ALL\"),(\"BUDGET\",\"ALL\")]\n",
    "printrecord=[(\"HEAD\",\"LAST\")]\n",
    "\n",
    "oc=f.mf6.ModflowGwfoc(gwf,saverecord=saverecord,head_filerecord=head_filerecord,budget_filerecord=budget_filerecord,printrecord=printrecord)"
   ]
  },
  {
   "cell_type": "code",
   "execution_count": 15,
   "metadata": {},
   "outputs": [
    {
     "name": "stdout",
     "output_type": "stream",
     "text": [
      "writing simulation...\n",
      "  writing simulation name file...\n",
      "  writing simulation tdis package...\n",
      "  writing ims package ims_-1...\n",
      "  writing model modflow_project...\n",
      "    writing model name file...\n",
      "    writing package dis...\n",
      "    writing package ic...\n",
      "    writing package npf...\n",
      "    writing package rcha_0...\n",
      "    writing package chd_0...\n",
      "INFORMATION: maxbound in ('gwf6', 'chd', 'dimensions') changed to 30 based on size of stress_period_data\n",
      "    writing package oc...\n"
     ]
    }
   ],
   "source": [
    "sim.write_simulation()"
   ]
  },
  {
   "cell_type": "code",
   "execution_count": 16,
   "metadata": {},
   "outputs": [
    {
     "name": "stdout",
     "output_type": "stream",
     "text": [
      "FloPy is using the following executable to run the model: exe/mf6.exe\n",
      "                                   MODFLOW 6\n",
      "                U.S. GEOLOGICAL SURVEY MODULAR HYDROLOGIC MODEL\n",
      "                        VERSION 6.4.1 Release 12/09/2022\n",
      "\n",
      "   MODFLOW 6 compiled Dec 09 2022 18:18:37 with Intel(R) Fortran Intel(R) 64\n",
      "   Compiler Classic for applications running on Intel(R) 64, Version 2021.7.0\n",
      "                             Build 20220726_000000\n",
      "\n",
      "This software has been approved for release by the U.S. Geological \n",
      "Survey (USGS). Although the software has been subjected to rigorous \n",
      "review, the USGS reserves the right to update the software as needed \n",
      "pursuant to further analysis and review. No warranty, expressed or \n",
      "implied, is made by the USGS or the U.S. Government as to the \n",
      "functionality of the software and related material nor shall the \n",
      "fact of release constitute any such warranty. Furthermore, the \n",
      "software is released on condition that neither the USGS nor the U.S. \n",
      "Government shall be held liable for any damages resulting from its \n",
      "authorized or unauthorized use. Also refer to the USGS Water \n",
      "Resources Software User Rights Notice for complete use, copyright, \n",
      "and distribution information.\n",
      "\n",
      " \n",
      " Run start date and time (yyyy/mm/dd hh:mm:ss): 2023/02/02 10:36:00\n",
      " \n",
      " Writing simulation list file: mfsim.lst\n",
      " Using Simulation name file: mfsim.nam\n",
      " \n",
      "    Solving:  Stress period:     1    Time step:     1\n",
      " \n",
      " Run end date and time (yyyy/mm/dd hh:mm:ss): 2023/02/02 10:36:00\n",
      " Elapsed run time:  0.103 Seconds\n",
      " \n",
      " Normal termination of simulation.\n"
     ]
    }
   ],
   "source": [
    "success, buff = sim.run_simulation()\n",
    "# assert success, \"MODFLOW 6 did not terminate normally\""
   ]
  },
  {
   "cell_type": "code",
   "execution_count": 17,
   "metadata": {},
   "outputs": [],
   "source": [
    "fpth = \"work/ex11/modflow_project.hds\"\n",
    "hds = f.utils.HeadFile(fpth)"
   ]
  },
  {
   "cell_type": "code",
   "execution_count": 16,
   "metadata": {},
   "outputs": [],
   "source": [
    "# kstpkper : tuple of ints\n",
    "#             A tuple containing the time step and stress period (kstp, kper).\n",
    "#             These are zero-based kstp and kper values"
   ]
  },
  {
   "cell_type": "code",
   "execution_count": 18,
   "metadata": {},
   "outputs": [],
   "source": [
    "kst=hds.get_kstpkper\n",
    "\n",
    "h = hds.get_data(kstpkper=(0,0))\n"
   ]
  },
  {
   "cell_type": "code",
   "execution_count": 41,
   "metadata": {},
   "outputs": [],
   "source": [
    "# plt.subplot(1,1,1, aspect=\"equal\")\n",
    "# fig = plt.gcf()\n",
    "# fig.set_figheight(10)\n",
    "# fig.set_figwidth(10)\n",
    "# head = h\n",
    "# levels= np.arange(0,120,0.5)\n",
    "# c=plt.contour(head[0,:,:], levels=levels, colors=\"red\")\n",
    "# plt.clabel(c,fmt=\"%2.1f\")"
   ]
  },
  {
   "cell_type": "code",
   "execution_count": 21,
   "metadata": {},
   "outputs": [],
   "source": [
    "ibd = np.ones((nlay, nrow, ncol), dtype=np.int64)\n",
    "for k, i, j in ra[\"cellid\"]:\n",
    "    ibd[k, i, j] = -1"
   ]
  },
  {
   "cell_type": "code",
   "execution_count": 38,
   "metadata": {},
   "outputs": [
    {
     "data": {
      "text/plain": [
       "<a list of 90 text.Text objects>"
      ]
     },
     "execution_count": 38,
     "metadata": {},
     "output_type": "execute_result"
    },
    {
     "data": {
      "image/png": "[encoded data removed]",
      "text/plain": [
       "<Figure size 600x1000 with 1 Axes>"
      ]
     },
     "metadata": {},
     "output_type": "display_data"
    }
   ],
   "source": [
    "fig, axes = plt.subplots(1, 1, figsize=(6, 10))\n",
    "ax = axes\n",
    "ax.set_title(\"Model Layer 1\")\n",
    "modelmap = f.plot.PlotMapView(model=gwf, ax=ax)\n",
    "quadmesh = modelmap.plot_ibound(ibound=(ibd))\n",
    "linecollection = modelmap.plot_grid(lw=0.5, color=\"green\")\n",
    "contours = modelmap.contour_array(\n",
    "    h[0], levels=np.arange(90, 120, 0.5), colors=\"black\"\n",
    ")\n",
    "ax.clabel(contours, fmt=\"%2.1f\")"
   ]
  },
  {
   "cell_type": "code",
   "execution_count": 22,
   "metadata": {},
   "outputs": [
    {
     "data": {
      "image/png": "[encoded data removed]",
      "text/plain": [
       "<Figure size 640x480 with 2 Axes>"
      ]
     },
     "metadata": {},
     "output_type": "display_data"
    }
   ],
   "source": [
    "m = f.plot.PlotMapView(gwf)\n",
    "# w=m.plot_bc(\"CHD\")\n",
    "mm=m.plot_array(h, masked_values=[1e30])\n",
    "m.plot_grid(lw=0.5, color=\"0.5\")\n",
    "cb = plt.colorbar(mm, shrink=0.5)"
   ]
  },
  {
   "cell_type": "code",
   "execution_count": 21,
   "metadata": {},
   "outputs": [],
   "source": [
    "# fname = os.path.join(str(modelpth), \"freyberg.cbc\")\n",
    "# cbb = f.utils.CellBudgetFile(fname)\n",
    "# frf = cbb.get_data(text=\"FLOW RIGHT FACE\")[0]\n",
    "# fff = cbb.get_data(text=\"FLOW FRONT FACE\")[0]\n",
    "# qx, qy, qz = flopy.utils.postprocessing.get_specific_discharge(\n",
    "#     (frf, fff, None), ml, head=head\n",
    "# )\n",
    "\n",
    "# fname = os.path.join(str(\"work/ex11/\"), \"._modflow_project.cbb\")\n",
    "# cbb= f.utils.CellBudgetFile(fname)\n",
    "# # y = cbb.get_data(text=\"DATA SPDIS\")[0]\n",
    "\n",
    "# frf = cbb.get_data(text=\"FLOW RIGHT FACE\")[0][0]\n",
    "# fff = cbb.get_data(text=\"FLOW FRONT FACE\")[0][0]\n",
    "# qx,qy,qz = f.utils.postprocessing.get_specific_discharge((frf,fff, None), gwf, head = h)"
   ]
  },
  {
   "cell_type": "code",
   "execution_count": null,
   "metadata": {},
   "outputs": [],
   "source": []
  }
 ],
 "metadata": {
  "kernelspec": {
   "display_name": "flopy-env",
   "language": "python",
   "name": "python3"
  },
  "language_info": {
   "codemirror_mode": {
    "name": "ipython",
    "version": 3
   },
   "file_extension": ".py",
   "mimetype": "text/x-python",
   "name": "python",
   "nbconvert_exporter": "python",
   "pygments_lexer": "ipython3",
   "version": "3.11.0"
  },
  "orig_nbformat": 4,
  "vscode": {
   "interpreter": {
    "hash": "757f38e1a9676d7c34d57611916b9906bcb6c90081bcaa73ebcbdb9977f992cb"
   }
  }
 },
 "nbformat": 4,
 "nbformat_minor": 2
}

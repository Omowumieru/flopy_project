{
 "cells": [
  {
   "cell_type": "code",
   "execution_count": 1,
   "metadata": {},
   "outputs": [],
   "source": [
    "import os\n",
    "import flopy as f\n",
    "import numpy as np\n",
    "\n",
    "import matplotlib.pyplot as plt\n",
    "import pandas as pd"
   ]
  },
  {
   "cell_type": "code",
   "execution_count": 2,
   "metadata": {},
   "outputs": [],
   "source": [
    "ws = \"work/ex11\"\n",
    "name = \"modflow_project\"\n",
    "exe_name = \"exe/mf6.exe\""
   ]
  },
  {
   "cell_type": "code",
   "execution_count": 3,
   "metadata": {},
   "outputs": [],
   "source": [
    "# create simulation\n",
    "sim = f.mf6.MFSimulation(sim_name=name, sim_ws=ws, exe_name=exe_name)"
   ]
  },
  {
   "cell_type": "code",
   "execution_count": 4,
   "metadata": {},
   "outputs": [],
   "source": [
    "# Temporal discretization\n",
    "nper = 1\n",
    "perlen = 8640000\n",
    "nstp = 1\n",
    "steady = [True]\n",
    "tdis = f.mf6.ModflowTdis(sim, time_units=\"seconds\", nper = 1, perioddata=[(8640000, 1, 1)], steady=steady)"
   ]
  },
  {
   "cell_type": "code",
   "execution_count": 5,
   "metadata": {},
   "outputs": [],
   "source": [
    "ims = f.mf6.ModflowIms(sim)"
   ]
  },
  {
   "cell_type": "code",
   "execution_count": 6,
   "metadata": {},
   "outputs": [],
   "source": [
    "# create model object\n",
    "gwf = f.mf6.ModflowGwf(sim, modelname=name)"
   ]
  },
  {
   "cell_type": "code",
   "execution_count": 7,
   "metadata": {},
   "outputs": [],
   "source": [
    "# Spatial Discretization\n",
    "nlay, nrow, ncol = 1, 25, 20\n",
    "delr=delc=50\n",
    "top=120\n",
    "botm=75\n",
    "ibound = np.ones((nlay, nrow, ncol), dtype=np.int64)\n",
    "ibound[:,:23,:4]=0\n",
    "ibound[:,1:23,19]=0\n",
    "\n",
    "Dis = f.mf6.ModflowGwfdis(gwf, nlay=nlay, nrow=nrow, ncol=ncol,\n",
    "                            top=top, botm=botm,delr=delr, delc=delc, idomain=ibound)"
   ]
  },
  {
   "cell_type": "code",
   "execution_count": 8,
   "metadata": {},
   "outputs": [],
   "source": [
    "# Defining initial conditions\n",
    "\n",
    "start=80\n",
    "ic = f.mf6.ModflowGwfic(gwf, strt=start)"
   ]
  },
  {
   "cell_type": "code",
   "execution_count": 9,
   "metadata": {},
   "outputs": [],
   "source": [
    "# Node Properties Definition\n",
    "kh=kva=10e-5\n",
    "laytyp=[1]\n",
    "\n",
    "npf = f.mf6.ModflowGwfnpf(gwf,save_specific_discharge=True, icelltype=laytyp, k=kh, k33=kva)"
   ]
  },
  {
   "cell_type": "code",
   "execution_count": 10,
   "metadata": {},
   "outputs": [],
   "source": [
    "# Recharge package\n",
    "rch = f.mf6.ModflowGwfrcha(gwf, recharge=2e-8)"
   ]
  },
  {
   "cell_type": "code",
   "execution_count": 11,
   "metadata": {},
   "outputs": [],
   "source": [
    "# Defining Constant Head\n",
    "chd_rec= {0:[[0,0,5,100],[0,0,6,100],[0,0,7,100],[0,0,8,100],[0,0,9,100],[0,0,10,100],[0,0,10,100],[0,0,11,100], [0,0,12,100],[0,0,13,100],[0,0,14,100],[0,0,15,100],[0,nrow-1,0,95],[0,nrow-1,1,95],[0,nrow-1,2,95],[0,nrow-1,3,95],[0,nrow-1,4,95],[0,nrow-1,5,95]]}\n",
    "\n",
    "# chdd = []\n",
    "# for i in range(5,19):\n",
    "#     chdd.append(((nlay, 24, i), 100))\n",
    "#     # if i != 5 and i != 19:\n",
    "#     #     chdd.append(((nlay, nrow-1, i), 95))\n",
    "chd=f.mf6.ModflowGwfchd(gwf, stress_period_data=chd_rec)\n"
   ]
  },
  {
   "cell_type": "code",
   "execution_count": 12,
   "metadata": {},
   "outputs": [],
   "source": [
    "headfile=f\"{name}.hds\"\n",
    "head_filerecord=[headfile]\n",
    "budgetfile=f\"{name}.cbb\"\n",
    "budget_filerecord=[budgetfile]\n",
    "saverecord=[(\"HEAD\",\"ALL\"),(\"BUDGET\",\"ALL\")]\n",
    "printrecord=[(\"HEAD\",\"LAST\")]\n",
    "\n",
    "oc=f.mf6.ModflowGwfoc(gwf,saverecord=saverecord,head_filerecord=head_filerecord,budget_filerecord=budget_filerecord,printrecord=printrecord)"
   ]
  },
  {
   "cell_type": "code",
   "execution_count": 16,
   "metadata": {},
   "outputs": [
    {
     "name": "stdout",
     "output_type": "stream",
     "text": [
      "writing simulation...\n",
      "  writing simulation name file...\n",
      "  writing simulation tdis package...\n",
      "  writing ims package ims_-1...\n",
      "  writing model modflow_project...\n",
      "    writing model name file...\n",
      "    writing package dis...\n",
      "    writing package ic...\n",
      "    writing package npf...\n",
      "    writing package rcha_0...\n",
      "    writing package chd_0...\n",
      "    writing package oc...\n"
     ]
    }
   ],
   "source": [
    "sim.write_simulation()"
   ]
  },
  {
   "cell_type": "code",
   "execution_count": 17,
   "metadata": {},
   "outputs": [
    {
     "name": "stdout",
     "output_type": "stream",
     "text": [
      "FloPy is using the following executable to run the model: exe/mf6.exe\n",
      "                                   MODFLOW 6\n",
      "                U.S. GEOLOGICAL SURVEY MODULAR HYDROLOGIC MODEL\n",
      "                        VERSION 6.4.1 Release 12/09/2022\n",
      "\n",
      "   MODFLOW 6 compiled Dec 09 2022 18:18:37 with Intel(R) Fortran Intel(R) 64\n",
      "   Compiler Classic for applications running on Intel(R) 64, Version 2021.7.0\n",
      "                             Build 20220726_000000\n",
      "\n",
      "This software has been approved for release by the U.S. Geological \n",
      "Survey (USGS). Although the software has been subjected to rigorous \n",
      "review, the USGS reserves the right to update the software as needed \n",
      "pursuant to further analysis and review. No warranty, expressed or \n",
      "implied, is made by the USGS or the U.S. Government as to the \n",
      "functionality of the software and related material nor shall the \n",
      "fact of release constitute any such warranty. Furthermore, the \n",
      "software is released on condition that neither the USGS nor the U.S. \n",
      "Government shall be held liable for any damages resulting from its \n",
      "authorized or unauthorized use. Also refer to the USGS Water \n",
      "Resources Software User Rights Notice for complete use, copyright, \n",
      "and distribution information.\n",
      "\n",
      " \n",
      " Run start date and time (yyyy/mm/dd hh:mm:ss): 2023/01/20 12:58:50\n",
      " \n",
      " Writing simulation list file: mfsim.lst\n",
      " Using Simulation name file: mfsim.nam\n",
      " \n",
      "    Solving:  Stress period:     1    Time step:     1\n",
      "\n",
      "ERROR REPORT:\n",
      "\n",
      "  1. Cell is already a constant head ((1,1,11)).\n",
      "\n",
      "UNIT ERROR REPORT:\n",
      "\n",
      "  1. ERROR OCCURRED WHILE READING FILE\n",
      "     'c:\\Users\\omowumierukubami\\Documents\\GitHub\\flopy_project\\work\\ex11\\modfl\n",
      "     ow_project.chd'\n"
     ]
    }
   ],
   "source": [
    "success, buff = sim.run_simulation()\n",
    "# assert success, \"MODFLOW 6 did not terminate normally\""
   ]
  },
  {
   "cell_type": "code",
   "execution_count": 18,
   "metadata": {},
   "outputs": [
    {
     "ename": "ValueError",
     "evalue": "datafile error: file is empty: work/ex11/modflow_project.hds",
     "output_type": "error",
     "traceback": [
      "\u001b[1;31m---------------------------------------------------------------------------\u001b[0m",
      "\u001b[1;31mValueError\u001b[0m                                Traceback (most recent call last)",
      "Cell \u001b[1;32mIn[18], line 2\u001b[0m\n\u001b[0;32m      1\u001b[0m fpth \u001b[39m=\u001b[39m \u001b[39m\"\u001b[39m\u001b[39mwork/ex11/modflow_project.hds\u001b[39m\u001b[39m\"\u001b[39m\n\u001b[1;32m----> 2\u001b[0m hds \u001b[39m=\u001b[39m f\u001b[39m.\u001b[39;49mutils\u001b[39m.\u001b[39;49mHeadFile(fpth)\n",
      "File \u001b[1;32mc:\\Users\\omowumierukubami\\anaconda3\\envs\\flopy-env\\Lib\\site-packages\\flopy\\utils\\binaryfile.py:487\u001b[0m, in \u001b[0;36mHeadFile.__init__\u001b[1;34m(self, filename, text, precision, verbose, **kwargs)\u001b[0m\n\u001b[0;32m    485\u001b[0m \u001b[39mself\u001b[39m\u001b[39m.\u001b[39mtext \u001b[39m=\u001b[39m text\u001b[39m.\u001b[39mencode()\n\u001b[0;32m    486\u001b[0m \u001b[39mif\u001b[39;00m precision \u001b[39m==\u001b[39m \u001b[39m\"\u001b[39m\u001b[39mauto\u001b[39m\u001b[39m\"\u001b[39m:\n\u001b[1;32m--> 487\u001b[0m     precision \u001b[39m=\u001b[39m get_headfile_precision(filename)\n\u001b[0;32m    488\u001b[0m     \u001b[39mif\u001b[39;00m precision \u001b[39m==\u001b[39m \u001b[39m\"\u001b[39m\u001b[39munknown\u001b[39m\u001b[39m\"\u001b[39m:\n\u001b[0;32m    489\u001b[0m         s \u001b[39m=\u001b[39m \u001b[39mf\u001b[39m\u001b[39m\"\u001b[39m\u001b[39mError. Precision could not be determined for \u001b[39m\u001b[39m{\u001b[39;00mfilename\u001b[39m}\u001b[39;00m\u001b[39m\"\u001b[39m\n",
      "File \u001b[1;32mc:\\Users\\omowumierukubami\\anaconda3\\envs\\flopy-env\\Lib\\site-packages\\flopy\\utils\\binaryfile.py:225\u001b[0m, in \u001b[0;36mget_headfile_precision\u001b[1;34m(filename)\u001b[0m\n\u001b[0;32m    223\u001b[0m \u001b[39massert\u001b[39;00m f\u001b[39m.\u001b[39mtell() \u001b[39m==\u001b[39m \u001b[39m0\u001b[39m\n\u001b[0;32m    224\u001b[0m \u001b[39mif\u001b[39;00m totalbytes \u001b[39m==\u001b[39m \u001b[39m0\u001b[39m:\n\u001b[1;32m--> 225\u001b[0m     \u001b[39mraise\u001b[39;00m \u001b[39mValueError\u001b[39;00m(\u001b[39mf\u001b[39m\u001b[39m\"\u001b[39m\u001b[39mdatafile error: file is empty: \u001b[39m\u001b[39m{\u001b[39;00mfilename\u001b[39m}\u001b[39;00m\u001b[39m\"\u001b[39m)\n\u001b[0;32m    227\u001b[0m \u001b[39m# first try single\u001b[39;00m\n\u001b[0;32m    228\u001b[0m vartype \u001b[39m=\u001b[39m [\n\u001b[0;32m    229\u001b[0m     (\u001b[39m\"\u001b[39m\u001b[39mkstp\u001b[39m\u001b[39m\"\u001b[39m, \u001b[39m\"\u001b[39m\u001b[39m<i4\u001b[39m\u001b[39m\"\u001b[39m),\n\u001b[0;32m    230\u001b[0m     (\u001b[39m\"\u001b[39m\u001b[39mkper\u001b[39m\u001b[39m\"\u001b[39m, \u001b[39m\"\u001b[39m\u001b[39m<i4\u001b[39m\u001b[39m\"\u001b[39m),\n\u001b[1;32m   (...)\u001b[0m\n\u001b[0;32m    233\u001b[0m     (\u001b[39m\"\u001b[39m\u001b[39mtext\u001b[39m\u001b[39m\"\u001b[39m, \u001b[39m\"\u001b[39m\u001b[39mS16\u001b[39m\u001b[39m\"\u001b[39m),\n\u001b[0;32m    234\u001b[0m ]\n",
      "\u001b[1;31mValueError\u001b[0m: datafile error: file is empty: work/ex11/modflow_project.hds"
     ]
    }
   ],
   "source": [
    "fpth = \"work/ex11/modflow_project.hds\"\n",
    "hds = f.utils.HeadFile(fpth)"
   ]
  },
  {
   "cell_type": "code",
   "execution_count": 16,
   "metadata": {},
   "outputs": [],
   "source": [
    "# kstpkper : tuple of ints\n",
    "#             A tuple containing the time step and stress period (kstp, kper).\n",
    "#             These are zero-based kstp and kper values"
   ]
  },
  {
   "cell_type": "code",
   "execution_count": 17,
   "metadata": {},
   "outputs": [],
   "source": [
    "kst=hds.get_kstpkper\n",
    "\n",
    "h = hds.get_data(kstpkper=(0,0))\n"
   ]
  },
  {
   "cell_type": "code",
   "execution_count": 18,
   "metadata": {},
   "outputs": [
    {
     "data": {
      "text/plain": [
       "array([[[1.00000000e+30, 1.00000000e+30, 1.00000000e+30, 1.00000000e+30,\n",
       "         1.00000000e+30, 1.00000000e+30, 1.00000000e+30, 1.01064761e+02,\n",
       "         1.00937053e+02, 1.00686649e+02, 1.00381215e+02, 1.00432614e+02,\n",
       "         1.00000000e+30, 1.00000000e+30, 1.00000000e+30, 1.00000000e+30,\n",
       "         1.00000000e+30, 1.00000000e+30, 1.00000000e+30, 1.00000000e+30],\n",
       "        [1.00000000e+30, 1.00000000e+30, 1.00000000e+30, 1.00000000e+30,\n",
       "         1.00000000e+30, 1.00000000e+30, 1.00000000e+30, 1.01172750e+02,\n",
       "         1.01038430e+02, 1.00719109e+02, 1.00000000e+02, 1.00464281e+02,\n",
       "         1.00000000e+30, 1.00000000e+30, 1.00000000e+30, 1.00000000e+30,\n",
       "         1.00000000e+30, 1.00000000e+30, 1.00000000e+30, 1.00000000e+30],\n",
       "        [1.00000000e+30, 1.00000000e+30, 1.00000000e+30, 1.00000000e+30,\n",
       "         1.00000000e+30, 1.00000000e+30, 1.00000000e+30, 1.01394621e+02,\n",
       "         1.01301668e+02, 1.01116846e+02, 1.00882306e+02, 1.00932054e+02,\n",
       "         1.00000000e+30, 1.00000000e+30, 1.00000000e+30, 1.00000000e+30,\n",
       "         1.00000000e+30, 1.00000000e+30, 1.00000000e+30, 1.00000000e+30],\n",
       "        [1.00000000e+30, 1.00000000e+30, 1.00000000e+30, 1.00000000e+30,\n",
       "         1.00000000e+30, 1.00000000e+30, 1.00000000e+30, 1.01687753e+02,\n",
       "         1.01633244e+02, 1.01537000e+02, 1.01438725e+02, 1.01421388e+02,\n",
       "         1.00000000e+30, 1.00000000e+30, 1.00000000e+30, 1.00000000e+30,\n",
       "         1.00000000e+30, 1.00000000e+30, 1.00000000e+30, 1.00000000e+30],\n",
       "        [1.00000000e+30, 1.00000000e+30, 1.00000000e+30, 1.00000000e+30,\n",
       "         1.00000000e+30, 1.00000000e+30, 1.00000000e+30, 1.02013129e+02,\n",
       "         1.01983260e+02, 1.01933506e+02, 1.01885663e+02, 1.01866152e+02,\n",
       "         1.00000000e+30, 1.00000000e+30, 1.00000000e+30, 1.00000000e+30,\n",
       "         1.00000000e+30, 1.00000000e+30, 1.00000000e+30, 1.00000000e+30],\n",
       "        [1.00000000e+30, 1.00000000e+30, 1.00000000e+30, 1.00000000e+30,\n",
       "         1.00000000e+30, 1.00000000e+30, 1.00000000e+30, 1.02345821e+02,\n",
       "         1.02329975e+02, 1.02303978e+02, 1.02279091e+02, 1.02266117e+02,\n",
       "         1.00000000e+30, 1.00000000e+30, 1.00000000e+30, 1.00000000e+30,\n",
       "         1.00000000e+30, 1.00000000e+30, 1.00000000e+30, 1.00000000e+30],\n",
       "        [1.00000000e+30, 1.00000000e+30, 1.00000000e+30, 1.00000000e+30,\n",
       "         1.00000000e+30, 1.00000000e+30, 1.00000000e+30, 1.02672398e+02,\n",
       "         1.02664004e+02, 1.02650287e+02, 1.02637013e+02, 1.02629406e+02,\n",
       "         1.00000000e+30, 1.00000000e+30, 1.00000000e+30, 1.00000000e+30,\n",
       "         1.00000000e+30, 1.00000000e+30, 1.00000000e+30, 1.00000000e+30],\n",
       "        [1.00000000e+30, 1.00000000e+30, 1.00000000e+30, 1.00000000e+30,\n",
       "         1.00000000e+30, 1.00000000e+30, 1.00000000e+30, 1.02985689e+02,\n",
       "         1.02981257e+02, 1.02973994e+02, 1.02966852e+02, 1.02962575e+02,\n",
       "         1.00000000e+30, 1.00000000e+30, 1.00000000e+30, 1.00000000e+30,\n",
       "         1.00000000e+30, 1.00000000e+30, 1.00000000e+30, 1.00000000e+30],\n",
       "        [1.00000000e+30, 1.00000000e+30, 1.00000000e+30, 1.00000000e+30,\n",
       "         1.00000000e+30, 1.00000000e+30, 1.00000000e+30, 1.03282318e+02,\n",
       "         1.03280007e+02, 1.03276144e+02, 1.03272275e+02, 1.03269887e+02,\n",
       "         1.00000000e+30, 1.00000000e+30, 1.00000000e+30, 1.00000000e+30,\n",
       "         1.00000000e+30, 1.00000000e+30, 1.00000000e+30, 1.00000000e+30],\n",
       "        [1.00000000e+30, 1.00000000e+30, 1.00000000e+30, 1.00000000e+30,\n",
       "         1.00000000e+30, 1.00000000e+30, 1.00000000e+30, 1.03560781e+02,\n",
       "         1.03559586e+02, 1.03557506e+02, 1.03555373e+02, 1.03554027e+02,\n",
       "         1.00000000e+30, 1.00000000e+30, 1.00000000e+30, 1.00000000e+30,\n",
       "         1.00000000e+30, 1.00000000e+30, 1.00000000e+30, 1.00000000e+30],\n",
       "        [1.00000000e+30, 1.00000000e+30, 1.00000000e+30, 1.00000000e+30,\n",
       "         1.00000000e+30, 1.00000000e+30, 1.00000000e+30, 1.03820471e+02,\n",
       "         1.03819859e+02, 1.03818708e+02, 1.03817489e+02, 1.03816724e+02,\n",
       "         1.00000000e+30, 1.00000000e+30, 1.00000000e+30, 1.00000000e+30,\n",
       "         1.00000000e+30, 1.00000000e+30, 1.00000000e+30, 1.00000000e+30],\n",
       "        [1.00000000e+30, 1.00000000e+30, 1.00000000e+30, 1.00000000e+30,\n",
       "         1.00000000e+30, 1.00000000e+30, 1.00000000e+30, 1.04061295e+02,\n",
       "         1.04060966e+02, 1.04060304e+02, 1.04059582e+02, 1.04059150e+02,\n",
       "         1.00000000e+30, 1.00000000e+30, 1.00000000e+30, 1.00000000e+30,\n",
       "         1.00000000e+30, 1.00000000e+30, 1.00000000e+30, 1.00000000e+30],\n",
       "        [1.00000000e+30, 1.00000000e+30, 1.00000000e+30, 1.00000000e+30,\n",
       "         1.00000000e+30, 1.00000000e+30, 1.00000000e+30, 1.04283406e+02,\n",
       "         1.04283196e+02, 1.04282809e+02, 1.04282383e+02, 1.04282149e+02,\n",
       "         1.00000000e+30, 1.00000000e+30, 1.00000000e+30, 1.00000000e+30,\n",
       "         1.00000000e+30, 1.00000000e+30, 1.00000000e+30, 1.00000000e+30],\n",
       "        [1.00000000e+30, 1.00000000e+30, 1.00000000e+30, 1.00000000e+30,\n",
       "         1.00000000e+30, 1.00000000e+30, 1.00000000e+30, 1.04487062e+02,\n",
       "         1.04486907e+02, 1.04486691e+02, 1.04486451e+02, 1.04486337e+02,\n",
       "         1.00000000e+30, 1.00000000e+30, 1.00000000e+30, 1.00000000e+30,\n",
       "         1.00000000e+30, 1.00000000e+30, 1.00000000e+30, 1.00000000e+30],\n",
       "        [1.00000000e+30, 1.00000000e+30, 1.00000000e+30, 1.00000000e+30,\n",
       "         1.00000000e+30, 1.00000000e+30, 1.00000000e+30, 1.04672570e+02,\n",
       "         1.04672453e+02, 1.04672355e+02, 1.04672223e+02, 1.04672177e+02,\n",
       "         1.00000000e+30, 1.00000000e+30, 1.00000000e+30, 1.00000000e+30,\n",
       "         1.00000000e+30, 1.00000000e+30, 1.00000000e+30, 1.00000000e+30],\n",
       "        [1.00000000e+30, 1.00000000e+30, 1.00000000e+30, 1.00000000e+30,\n",
       "         1.00000000e+30, 1.00000000e+30, 1.00000000e+30, 1.04840252e+02,\n",
       "         1.04840156e+02, 1.04840132e+02, 1.04840058e+02, 1.04840047e+02,\n",
       "         1.00000000e+30, 1.00000000e+30, 1.00000000e+30, 1.00000000e+30,\n",
       "         1.00000000e+30, 1.00000000e+30, 1.00000000e+30, 1.00000000e+30],\n",
       "        [1.00000000e+30, 1.00000000e+30, 1.00000000e+30, 1.00000000e+30,\n",
       "         1.00000000e+30, 1.00000000e+30, 1.00000000e+30, 1.04990383e+02,\n",
       "         1.04990289e+02, 1.04990306e+02, 1.04990264e+02, 1.04990275e+02,\n",
       "         1.00000000e+30, 1.00000000e+30, 1.00000000e+30, 1.00000000e+30,\n",
       "         1.00000000e+30, 1.00000000e+30, 1.00000000e+30, 1.00000000e+30],\n",
       "        [1.00000000e+30, 1.00000000e+30, 1.00000000e+30, 1.00000000e+30,\n",
       "         1.00000000e+30, 1.00000000e+30, 1.00000000e+30, 1.05123200e+02,\n",
       "         1.05123097e+02, 1.05123142e+02, 1.05123122e+02, 1.05123144e+02,\n",
       "         1.00000000e+30, 1.00000000e+30, 1.00000000e+30, 1.00000000e+30,\n",
       "         1.00000000e+30, 1.00000000e+30, 1.00000000e+30, 1.00000000e+30],\n",
       "        [1.00000000e+30, 1.00000000e+30, 1.00000000e+30, 1.00000000e+30,\n",
       "         1.00000000e+30, 1.00000000e+30, 1.00000000e+30, 1.05238930e+02,\n",
       "         1.05238814e+02, 1.05238877e+02, 1.05238873e+02, 1.05238890e+02,\n",
       "         1.00000000e+30, 1.00000000e+30, 1.00000000e+30, 1.00000000e+30,\n",
       "         1.00000000e+30, 1.00000000e+30, 1.00000000e+30, 1.00000000e+30],\n",
       "        [1.00000000e+30, 1.00000000e+30, 1.00000000e+30, 1.00000000e+30,\n",
       "         1.00000000e+30, 1.00000000e+30, 1.00000000e+30, 1.05337780e+02,\n",
       "         1.05337650e+02, 1.05337706e+02, 1.05337704e+02, 1.05337726e+02,\n",
       "         1.00000000e+30, 1.00000000e+30, 1.00000000e+30, 1.00000000e+30,\n",
       "         1.00000000e+30, 1.00000000e+30, 1.00000000e+30, 1.00000000e+30],\n",
       "        [1.00000000e+30, 1.00000000e+30, 1.00000000e+30, 1.00000000e+30,\n",
       "         1.00000000e+30, 1.00000000e+30, 1.00000000e+30, 1.05419919e+02,\n",
       "         1.05419775e+02, 1.05419783e+02, 1.05419779e+02, 1.05419863e+02,\n",
       "         1.00000000e+30, 1.00000000e+30, 1.00000000e+30, 1.00000000e+30,\n",
       "         1.00000000e+30, 1.00000000e+30, 1.00000000e+30, 1.00000000e+30],\n",
       "        [1.00000000e+30, 1.00000000e+30, 1.00000000e+30, 1.00000000e+30,\n",
       "         1.00000000e+30, 1.00000000e+30, 1.00000000e+30, 1.05485464e+02,\n",
       "         1.05485316e+02, 1.05485257e+02, 1.05485270e+02, 1.05485439e+02,\n",
       "         1.00000000e+30, 1.00000000e+30, 1.00000000e+30, 1.00000000e+30,\n",
       "         1.00000000e+30, 1.00000000e+30, 1.00000000e+30, 1.00000000e+30],\n",
       "        [1.00000000e+30, 1.00000000e+30, 1.00000000e+30, 1.00000000e+30,\n",
       "         1.00000000e+30, 1.00000000e+30, 1.00000000e+30, 1.05534505e+02,\n",
       "         1.05534374e+02, 1.05534271e+02, 1.05534300e+02, 1.05534411e+02,\n",
       "         1.00000000e+30, 1.00000000e+30, 1.00000000e+30, 1.00000000e+30,\n",
       "         1.00000000e+30, 1.00000000e+30, 1.00000000e+30, 1.00000000e+30],\n",
       "        [1.00000000e+30, 1.00000000e+30, 1.00000000e+30, 1.00000000e+30,\n",
       "         1.00000000e+30, 1.00000000e+30, 1.00000000e+30, 1.05567131e+02,\n",
       "         1.05567040e+02, 1.05566947e+02, 1.05567117e+02, 1.05567076e+02,\n",
       "         1.00000000e+30, 1.00000000e+30, 1.00000000e+30, 1.00000000e+30,\n",
       "         1.00000000e+30, 1.00000000e+30, 1.00000000e+30, 1.00000000e+30],\n",
       "        [1.00000000e+30, 1.00000000e+30, 1.00000000e+30, 1.00000000e+30,\n",
       "         1.00000000e+30, 1.00000000e+30, 1.00000000e+30, 1.05583435e+02,\n",
       "         1.05583545e+02, 1.05583416e+02, 1.05583403e+02, 1.05583516e+02,\n",
       "         1.00000000e+30, 1.00000000e+30, 1.00000000e+30, 1.00000000e+30,\n",
       "         1.00000000e+30, 1.00000000e+30, 1.00000000e+30, 1.00000000e+30]]])"
      ]
     },
     "execution_count": 18,
     "metadata": {},
     "output_type": "execute_result"
    }
   ],
   "source": [
    "h"
   ]
  },
  {
   "cell_type": "code",
   "execution_count": 28,
   "metadata": {},
   "outputs": [
    {
     "data": {
      "text/plain": [
       "<a list of 387 text.Text objects>"
      ]
     },
     "execution_count": 28,
     "metadata": {},
     "output_type": "execute_result"
    },
    {
     "data": {
      "image/png": "[encoded data removed]",
      "text/plain": [
       "<Figure size 1000x1000 with 1 Axes>"
      ]
     },
     "metadata": {},
     "output_type": "display_data"
    }
   ],
   "source": [
    "plt.subplot(1,1,1, aspect=\"equal\")\n",
    "fig = plt.gcf()\n",
    "fig.set_figheight(10)\n",
    "fig.set_figwidth(10)\n",
    "head = h\n",
    "levels= np.arange(0,200,0.5)\n",
    "c=plt.contour(head[0,:,:], levels=levels, colors=\"red\")\n",
    "plt.clabel(c,fmt=\"%2.1f\")"
   ]
  },
  {
   "cell_type": "code",
   "execution_count": 20,
   "metadata": {},
   "outputs": [
    {
     "data": {
      "image/png": "[encoded data removed]",
      "text/plain": [
       "<Figure size 640x480 with 2 Axes>"
      ]
     },
     "metadata": {},
     "output_type": "display_data"
    }
   ],
   "source": [
    "m = f.plot.PlotMapView(gwf)\n",
    "# w=m.plot_bc(\"CHD\")\n",
    "mm=m.plot_array(h, masked_values=[1e30])\n",
    "m.plot_grid(lw=0.5, color=\"0.5\")\n",
    "cb = plt.colorbar(mm, shrink=0.5)"
   ]
  },
  {
   "cell_type": "code",
   "execution_count": 24,
   "metadata": {},
   "outputs": [],
   "source": [
    "# fname = os.path.join(str(modelpth), \"freyberg.cbc\")\n",
    "# cbb = flopy.utils.CellBudgetFile(fname)\n",
    "# frf = cbb.get_data(text=\"FLOW RIGHT FACE\")[0]\n",
    "# fff = cbb.get_data(text=\"FLOW FRONT FACE\")[0]\n",
    "# qx, qy, qz = flopy.utils.postprocessing.get_specific_discharge(\n",
    "#     (frf, fff, None), ml, head=head\n",
    "# )\n",
    "\n",
    "# fname = os.path.join(str(\"work/ex11/\"), \"._modflow_project.cbb\")\n",
    "# cbb= f.utils.CellBudgetFile(fname)\n",
    "# # y = cbb.get_data(text=\"DATA SPDIS\")[0]\n",
    "\n",
    "# frf = cbb.get_data(text=\"FLOW RIGHT FACE\")[0][0]\n",
    "# fff = cbb.get_data(text=\"FLOW FRONT FACE\")[0][0]\n",
    "# qx,qy,qz = f.utils.postprocessing.get_specific_discharge((frf,fff, None), gwf, head = h)\n"
   ]
  },
  {
   "cell_type": "code",
   "execution_count": 12,
   "metadata": {},
   "outputs": [
    {
     "name": "stdout",
     "output_type": "stream",
     "text": [
      "[(1, 2.) (4, 5.)]\n"
     ]
    },
    {
     "data": {
      "text/plain": [
       "array([2., 5.], dtype=float32)"
      ]
     },
     "execution_count": 12,
     "metadata": {},
     "output_type": "execute_result"
    }
   ],
   "source": [
    "x=np.array([(1.0, 2), (4.0, 5)], dtype=[(\"x\", \"<i8\"), (\"y\", \"<f4\")])\n",
    "\n",
    "print(x)\n",
    "x[\"y\"]"
   ]
  },
  {
   "cell_type": "code",
   "execution_count": null,
   "metadata": {},
   "outputs": [],
   "source": []
  }
 ],
 "metadata": {
  "kernelspec": {
   "display_name": "flopy-env",
   "language": "python",
   "name": "python3"
  },
  "language_info": {
   "codemirror_mode": {
    "name": "ipython",
    "version": 3
   },
   "file_extension": ".py",
   "mimetype": "text/x-python",
   "name": "python",
   "nbconvert_exporter": "python",
   "pygments_lexer": "ipython3",
   "version": "3.11.0"
  },
  "orig_nbformat": 4,
  "vscode": {
   "interpreter": {
    "hash": "757f38e1a9676d7c34d57611916b9906bcb6c90081bcaa73ebcbdb9977f992cb"
   }
  }
 },
 "nbformat": 4,
 "nbformat_minor": 2
}

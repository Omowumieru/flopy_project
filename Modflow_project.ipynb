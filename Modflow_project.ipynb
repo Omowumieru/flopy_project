{
 "cells": [
  {
   "cell_type": "code",
   "execution_count": 18,
   "metadata": {},
   "outputs": [],
   "source": [
    "import os\n",
    "import flopy as f\n",
    "import numpy as np\n",
    "import matplotlib.pyplot as plt\n",
    "import pandas as pd"
   ]
  },
  {
   "cell_type": "code",
   "execution_count": 19,
   "metadata": {},
   "outputs": [],
   "source": [
    "ws = \"work/ex11\"\n",
    "name = \"modflow_project\"\n",
    "exe_name = \"../mf6.exe\""
   ]
  },
  {
   "cell_type": "code",
   "execution_count": 20,
   "metadata": {},
   "outputs": [
    {
     "name": "stdout",
     "output_type": "stream",
     "text": [
      "None\n"
     ]
    }
   ],
   "source": [
    "from shutil import which\n",
    "print(which(os.path.abspath(exe_name)))"
   ]
  },
  {
   "cell_type": "code",
   "execution_count": 21,
   "metadata": {},
   "outputs": [
    {
     "data": {
      "text/plain": [
       "'/Users/omowumierukubami/Desktop/notebooks/mf6.exe'"
      ]
     },
     "execution_count": 21,
     "metadata": {},
     "output_type": "execute_result"
    }
   ],
   "source": [
    "os.path.abspath(exe_name)"
   ]
  },
  {
   "cell_type": "code",
   "execution_count": 22,
   "metadata": {},
   "outputs": [
    {
     "data": {
      "text/plain": [
       "True"
      ]
     },
     "execution_count": 22,
     "metadata": {},
     "output_type": "execute_result"
    }
   ],
   "source": [
    "os.path.isfile(exe_name)"
   ]
  },
  {
   "cell_type": "code",
   "execution_count": 23,
   "metadata": {},
   "outputs": [],
   "source": [
    "# create simulation\n",
    "sim = f.mf6.MFSimulation(sim_name=name, sim_ws=ws, exe_name=exe_name)"
   ]
  },
  {
   "cell_type": "code",
   "execution_count": 24,
   "metadata": {},
   "outputs": [],
   "source": [
    "# Temporal discretization\n",
    "nper = 1\n",
    "perlen = 8640000\n",
    "nstp = 1\n",
    "tdis = f.mf6.ModflowTdis(sim, time_units=\"seconds\", nper = 1, perioddata=[(0, 8640000, 1)])"
   ]
  },
  {
   "cell_type": "code",
   "execution_count": 25,
   "metadata": {},
   "outputs": [],
   "source": [
    "ims = f.mf6.ModflowIms(sim)"
   ]
  },
  {
   "cell_type": "code",
   "execution_count": 26,
   "metadata": {},
   "outputs": [],
   "source": [
    "# create model object\n",
    "gwf = f.mf6.ModflowGwf(sim, modelname=name)"
   ]
  },
  {
   "cell_type": "code",
   "execution_count": 27,
   "metadata": {},
   "outputs": [],
   "source": [
    "# Spatial Discretization\n",
    "nlay, nrow, ncol = 1, 25, 20\n",
    "delr=delc=50\n",
    "top=120\n",
    "botm=75\n",
    "ibound = np.ones((nlay, nrow, ncol), dtype=np.int64)\n",
    "ibound[:,:,:7]=0\n",
    "ibound[:,:8,11]=0\n",
    "\n",
    "Dis = f.mf6.ModflowGwfdis(gwf, nlay=nlay, nrow=nrow, ncol=ncol,\n",
    "                            botm=botm,delr=delr, delc=delc, idomain=ibound)"
   ]
  },
  {
   "cell_type": "code",
   "execution_count": 28,
   "metadata": {},
   "outputs": [],
   "source": [
    "# Node Properties Definition\n",
    "kh=kva=10e-5\n",
    "laytyp=[1]\n",
    "\n",
    "npf = f.mf6.ModflowGwfnpf(gwf,save_specific_discharge=True, icelltype=laytyp, k=kh, k33=kva)"
   ]
  },
  {
   "cell_type": "code",
   "execution_count": 29,
   "metadata": {},
   "outputs": [],
   "source": [
    "# Defining initial conditions\n",
    "\n",
    "start=80 * np.ones((nlay,nrow,ncol), dtype=np.float64)\n",
    "ic = f.mf6.ModflowGwfic(gwf, strt=start)"
   ]
  },
  {
   "cell_type": "code",
   "execution_count": 30,
   "metadata": {},
   "outputs": [],
   "source": [
    "# Recharge package\n",
    "rch = f.mf6.ModflowGwfrcha(gwf, recharge=2e-8)"
   ]
  },
  {
   "cell_type": "code",
   "execution_count": 31,
   "metadata": {},
   "outputs": [],
   "source": [
    "# Defining Constant Head\n",
    "chd_rec= {0:[[0,1,15,100.0,100.0]]}\n",
    "chd=f.mf6.ModflowGwfchd(gwf, stress_period_data=chd_rec)\n"
   ]
  },
  {
   "cell_type": "code",
   "execution_count": 32,
   "metadata": {},
   "outputs": [],
   "source": [
    "headfile=f\"{name}.hds\"\n",
    "head_filerecord=[headfile]\n",
    "budgetfile=f\"{name}.cbb\"\n",
    "budget_filerecord=[budgetfile]\n",
    "saverecord=[(\"HEAD\",\"ALL\"),(\"BUDGET\",\"ALL\")]\n",
    "printrecord=[(\"HEAD\",\"LAST\")]\n",
    "\n",
    "oc=f.mf6.ModflowGwfoc(gwf,saverecord=saverecord,head_filerecord=head_filerecord,budget_filerecord=budget_filerecord,printrecord=printrecord)"
   ]
  },
  {
   "cell_type": "code",
   "execution_count": 33,
   "metadata": {},
   "outputs": [
    {
     "name": "stdout",
     "output_type": "stream",
     "text": [
      "writing simulation...\n",
      "  writing simulation name file...\n",
      "  writing simulation tdis package...\n",
      "  writing ims package ims_-1...\n",
      "  writing model modflow_project...\n",
      "    writing model name file...\n",
      "    writing package dis...\n",
      "    writing package npf...\n",
      "    writing package ic...\n",
      "    writing package rcha_0...\n",
      "    writing package chd_0...\n",
      "INFORMATION: maxbound in ('gwf6', 'chd', 'dimensions') changed to 1 based on size of stress_period_data\n",
      "    writing package oc...\n"
     ]
    }
   ],
   "source": [
    "sim.write_simulation()"
   ]
  },
  {
   "cell_type": "code",
   "execution_count": 34,
   "metadata": {},
   "outputs": [
    {
     "ename": "Exception",
     "evalue": "The program ../mf6.exe does not exist or is not executable.",
     "output_type": "error",
     "traceback": [
      "\u001b[0;31m---------------------------------------------------------------------------\u001b[0m",
      "\u001b[0;31mException\u001b[0m                                 Traceback (most recent call last)",
      "Cell \u001b[0;32mIn[34], line 1\u001b[0m\n\u001b[0;32m----> 1\u001b[0m success, buff \u001b[39m=\u001b[39m sim\u001b[39m.\u001b[39;49mrun_simulation()\n\u001b[1;32m      2\u001b[0m \u001b[39massert\u001b[39;00m success, \u001b[39m\"\u001b[39m\u001b[39mMODFLOW 6 did not terminate normally\u001b[39m\u001b[39m\"\u001b[39m\n",
      "File \u001b[0;32m~/opt/anaconda3/envs/flopy/lib/python3.11/site-packages/flopy/mf6/modflow/mfsimulation.py:1467\u001b[0m, in \u001b[0;36mMFSimulation.run_simulation\u001b[0;34m(self, silent, pause, report, normal_msg, use_async, cargs)\u001b[0m\n\u001b[1;32m   1465\u001b[0m     \u001b[39melse\u001b[39;00m:\n\u001b[1;32m   1466\u001b[0m         silent \u001b[39m=\u001b[39m \u001b[39mTrue\u001b[39;00m\n\u001b[0;32m-> 1467\u001b[0m \u001b[39mreturn\u001b[39;00m run_model(\n\u001b[1;32m   1468\u001b[0m     \u001b[39mself\u001b[39;49m\u001b[39m.\u001b[39;49mexe_name,\n\u001b[1;32m   1469\u001b[0m     \u001b[39mNone\u001b[39;49;00m,\n\u001b[1;32m   1470\u001b[0m     \u001b[39mself\u001b[39;49m\u001b[39m.\u001b[39;49msimulation_data\u001b[39m.\u001b[39;49mmfpath\u001b[39m.\u001b[39;49mget_sim_path(),\n\u001b[1;32m   1471\u001b[0m     silent\u001b[39m=\u001b[39;49msilent,\n\u001b[1;32m   1472\u001b[0m     pause\u001b[39m=\u001b[39;49mpause,\n\u001b[1;32m   1473\u001b[0m     report\u001b[39m=\u001b[39;49mreport,\n\u001b[1;32m   1474\u001b[0m     normal_msg\u001b[39m=\u001b[39;49mnormal_msg,\n\u001b[1;32m   1475\u001b[0m     use_async\u001b[39m=\u001b[39;49muse_async,\n\u001b[1;32m   1476\u001b[0m     cargs\u001b[39m=\u001b[39;49mcargs,\n\u001b[1;32m   1477\u001b[0m )\n",
      "File \u001b[0;32m~/opt/anaconda3/envs/flopy/lib/python3.11/site-packages/flopy/mbase.py:1708\u001b[0m, in \u001b[0;36mrun_model\u001b[0;34m(exe_name, namefile, model_ws, silent, pause, report, normal_msg, use_async, cargs)\u001b[0m\n\u001b[1;32m   1706\u001b[0m     exe \u001b[39m=\u001b[39m which(os\u001b[39m.\u001b[39mpath\u001b[39m.\u001b[39mabspath(exe_name))\n\u001b[1;32m   1707\u001b[0m \u001b[39mif\u001b[39;00m exe \u001b[39mis\u001b[39;00m \u001b[39mNone\u001b[39;00m:\n\u001b[0;32m-> 1708\u001b[0m     \u001b[39mraise\u001b[39;00m \u001b[39mException\u001b[39;00m(\n\u001b[1;32m   1709\u001b[0m         \u001b[39mf\u001b[39m\u001b[39m\"\u001b[39m\u001b[39mThe program \u001b[39m\u001b[39m{\u001b[39;00mexe_name\u001b[39m}\u001b[39;00m\u001b[39m does not exist or is not executable.\u001b[39m\u001b[39m\"\u001b[39m\n\u001b[1;32m   1710\u001b[0m     )\n\u001b[1;32m   1711\u001b[0m \u001b[39melse\u001b[39;00m:\n\u001b[1;32m   1712\u001b[0m     \u001b[39mif\u001b[39;00m \u001b[39mnot\u001b[39;00m silent:\n",
      "\u001b[0;31mException\u001b[0m: The program ../mf6.exe does not exist or is not executable."
     ]
    }
   ],
   "source": [
    "success, buff = sim.run_simulation()\n",
    "assert success, \"MODFLOW 6 did not terminate normally\""
   ]
  },
  {
   "cell_type": "code",
   "execution_count": null,
   "metadata": {},
   "outputs": [],
   "source": []
  }
 ],
 "metadata": {
  "kernelspec": {
   "display_name": "flopy",
   "language": "python",
   "name": "python3"
  },
  "language_info": {
   "codemirror_mode": {
    "name": "ipython",
    "version": 3
   },
   "file_extension": ".py",
   "mimetype": "text/x-python",
   "name": "python",
   "nbconvert_exporter": "python",
   "pygments_lexer": "ipython3",
   "version": "3.11.0"
  },
  "orig_nbformat": 4,
  "vscode": {
   "interpreter": {
    "hash": "17455bc5a7c83c1c002b9196144815ac12c76d96aefd9d89012878124b5c5034"
   }
  }
 },
 "nbformat": 4,
 "nbformat_minor": 2
}

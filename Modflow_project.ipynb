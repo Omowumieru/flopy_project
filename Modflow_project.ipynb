{
 "cells": [
  {
   "cell_type": "code",
   "execution_count": 1,
   "metadata": {},
   "outputs": [],
   "source": [
    "import os\n",
    "import flopy as f\n",
    "import numpy as np\n",
    "\n",
    "import matplotlib.pyplot as plt\n",
    "import pandas as pd"
   ]
  },
  {
   "cell_type": "code",
   "execution_count": 2,
   "metadata": {},
   "outputs": [],
   "source": [
    "ws = \"work/ex11\"\n",
    "name = \"modflow_project\"\n",
    "exe_name = \"exe/mf6.exe\""
   ]
  },
  {
   "cell_type": "code",
   "execution_count": 3,
   "metadata": {},
   "outputs": [],
   "source": [
    "# create simulation\n",
    "sim = f.mf6.MFSimulation(sim_name=name, sim_ws=ws, exe_name=exe_name)"
   ]
  },
  {
   "cell_type": "code",
   "execution_count": 4,
   "metadata": {},
   "outputs": [],
   "source": [
    "# Temporal discretization\n",
    "nper = 1\n",
    "perlen = 8640000\n",
    "nstp = 1\n",
    "steady = [True]\n",
    "tdis = f.mf6.ModflowTdis(sim, time_units=\"seconds\", nper = 1, perioddata=[(8640000, 1, 1)], steady=steady)"
   ]
  },
  {
   "cell_type": "code",
   "execution_count": 5,
   "metadata": {},
   "outputs": [],
   "source": [
    "ims = f.mf6.ModflowIms(sim)"
   ]
  },
  {
   "cell_type": "code",
   "execution_count": 6,
   "metadata": {},
   "outputs": [],
   "source": [
    "# create model object\n",
    "gwf = f.mf6.ModflowGwf(sim, modelname=name)"
   ]
  },
  {
   "cell_type": "code",
   "execution_count": 7,
   "metadata": {},
   "outputs": [],
   "source": [
    "# Spatial Discretization\n",
    "nlay, nrow, ncol = 1, 25, 20\n",
    "delr=delc=50\n",
    "top=120\n",
    "botm=75\n",
    "ibound = np.ones((nlay, nrow, ncol), dtype=np.int64)\n",
    "ibound[:,:23,:4]=0\n",
    "ibound[:,1:23,19]=0\n",
    "\n",
    "Dis = f.mf6.ModflowGwfdis(gwf, nlay=nlay, nrow=nrow, ncol=ncol,\n",
    "                            top=top, botm=botm,delr=delr, delc=delc, idomain=ibound)"
   ]
  },
  {
   "cell_type": "code",
   "execution_count": 8,
   "metadata": {},
   "outputs": [],
   "source": [
    "# Defining initial conditions\n",
    "\n",
    "start=80\n",
    "ic = f.mf6.ModflowGwfic(gwf, strt=start)"
   ]
  },
  {
   "cell_type": "code",
   "execution_count": 9,
   "metadata": {},
   "outputs": [],
   "source": [
    "# Node Properties Definition\n",
    "kh=kva=10e-5\n",
    "laytyp=[1]\n",
    "\n",
    "npf = f.mf6.ModflowGwfnpf(gwf,save_specific_discharge=True, icelltype=laytyp, k=kh, k33=kva)"
   ]
  },
  {
   "cell_type": "code",
   "execution_count": 10,
   "metadata": {},
   "outputs": [],
   "source": [
    "# Recharge package\n",
    "rch = f.mf6.ModflowGwfrcha(gwf, recharge=2e-8)"
   ]
  },
  {
   "cell_type": "code",
   "execution_count": 24,
   "metadata": {},
   "outputs": [
    {
     "data": {
      "text/plain": [
       "[((0, 0, 5), 100),\n",
       " ((0, 24, 5), 95),\n",
       " ((0, 0, 6), 100),\n",
       " ((0, 24, 6), 95),\n",
       " ((0, 0, 7), 100),\n",
       " ((0, 24, 7), 95),\n",
       " ((0, 0, 8), 100),\n",
       " ((0, 24, 8), 95),\n",
       " ((0, 0, 9), 100),\n",
       " ((0, 24, 9), 95),\n",
       " ((0, 0, 10), 100),\n",
       " ((0, 24, 10), 95),\n",
       " ((0, 0, 11), 100),\n",
       " ((0, 24, 11), 95),\n",
       " ((0, 0, 12), 100),\n",
       " ((0, 24, 12), 95),\n",
       " ((0, 0, 13), 100),\n",
       " ((0, 24, 13), 95),\n",
       " ((0, 0, 14), 100),\n",
       " ((0, 24, 14), 95),\n",
       " ((0, 0, 15), 100),\n",
       " ((0, 24, 15), 95),\n",
       " ((0, 0, 16), 100),\n",
       " ((0, 24, 16), 95),\n",
       " ((0, 0, 17), 100),\n",
       " ((0, 24, 17), 95),\n",
       " ((0, 0, 18), 100),\n",
       " ((0, 24, 18), 95),\n",
       " ((0, 0, 19), 100),\n",
       " ((0, 24, 19), 95)]"
      ]
     },
     "execution_count": 24,
     "metadata": {},
     "output_type": "execute_result"
    }
   ],
   "source": [
    "# Defining Constant Head\n",
    "# chd_rec= {0:[[0,0,5,100.0],[0,0,6,100.0],[0,0,7,100.0],[0,0,8,100.0],[0,0,9,100.0],[0,0,10,100.0],[0,nrow-1,5,95]]}\n",
    "# # np.array([chd_rec], dtype=[(\"i\",\"<i8\"), (\"j\",\"<i8\"),(\"k\",\"<i8\"),(\"start\",\"<f8\")])\n",
    "\n",
    "chdd = []\n",
    "layer = 0\n",
    "for i in range(5,20):\n",
    "    chdd.append(((layer, 0, i), 100))\n",
    "    if i != range(5,20):\n",
    "        chdd.append(((layer, nrow-1, i), 95))\n",
    "# ,[0,0,10,100.0],[0,0,11,100.0], [0,0,12,100.0],[0,0,13,100.0],[0,0,14,100.0],[0,0,15,100.0], [0,nrow-1,0,95],[0,nrow-1,1,95],[0,nrow-1,2,95],[0,nrow-1,3,95],[0,nrow-1,4,95]\n",
    "\n",
    "chd=f.mf6.ModflowGwfchd(gwf, stress_period_data=chdd)\n",
    "# ipr=1\n",
    "# ra = chd.stress_period_data.get_data(key=ipr)\n",
    "# ra\n",
    "# chd_rec\n",
    "chdd"
   ]
  },
  {
   "cell_type": "code",
   "execution_count": 12,
   "metadata": {},
   "outputs": [],
   "source": [
    "headfile=f\"{name}.hds\"\n",
    "head_filerecord=[headfile]\n",
    "budgetfile=f\"{name}.cbb\"\n",
    "budget_filerecord=[budgetfile]\n",
    "saverecord=[(\"HEAD\",\"ALL\"),(\"BUDGET\",\"ALL\")]\n",
    "printrecord=[(\"HEAD\",\"LAST\")]\n",
    "\n",
    "oc=f.mf6.ModflowGwfoc(gwf,saverecord=saverecord,head_filerecord=head_filerecord,budget_filerecord=budget_filerecord,printrecord=printrecord)"
   ]
  },
  {
   "cell_type": "code",
   "execution_count": 13,
   "metadata": {},
   "outputs": [
    {
     "name": "stdout",
     "output_type": "stream",
     "text": [
      "writing simulation...\n",
      "  writing simulation name file...\n",
      "  writing simulation tdis package...\n",
      "  writing ims package ims_-1...\n",
      "  writing model modflow_project...\n",
      "    writing model name file...\n",
      "    writing package dis...\n",
      "    writing package ic...\n",
      "    writing package npf...\n",
      "    writing package rcha_0...\n",
      "    writing package chd_0...\n",
      "INFORMATION: maxbound in ('gwf6', 'chd', 'dimensions') changed to 30 based on size of stress_period_data\n",
      "    writing package oc...\n"
     ]
    }
   ],
   "source": [
    "sim.write_simulation()"
   ]
  },
  {
   "cell_type": "code",
   "execution_count": 14,
   "metadata": {},
   "outputs": [
    {
     "name": "stdout",
     "output_type": "stream",
     "text": [
      "FloPy is using the following executable to run the model: exe/mf6.exe\n",
      "                                   MODFLOW 6\n",
      "                U.S. GEOLOGICAL SURVEY MODULAR HYDROLOGIC MODEL\n",
      "                        VERSION 6.4.1 Release 12/09/2022\n",
      "\n",
      "   MODFLOW 6 compiled Dec 09 2022 18:18:37 with Intel(R) Fortran Intel(R) 64\n",
      "   Compiler Classic for applications running on Intel(R) 64, Version 2021.7.0\n",
      "                             Build 20220726_000000\n",
      "\n",
      "This software has been approved for release by the U.S. Geological \n",
      "Survey (USGS). Although the software has been subjected to rigorous \n",
      "review, the USGS reserves the right to update the software as needed \n",
      "pursuant to further analysis and review. No warranty, expressed or \n",
      "implied, is made by the USGS or the U.S. Government as to the \n",
      "functionality of the software and related material nor shall the \n",
      "fact of release constitute any such warranty. Furthermore, the \n",
      "software is released on condition that neither the USGS nor the U.S. \n",
      "Government shall be held liable for any damages resulting from its \n",
      "authorized or unauthorized use. Also refer to the USGS Water \n",
      "Resources Software User Rights Notice for complete use, copyright, \n",
      "and distribution information.\n",
      "\n",
      " \n",
      " Run start date and time (yyyy/mm/dd hh:mm:ss): 2023/01/23 15:33:20\n",
      " \n",
      " Writing simulation list file: mfsim.lst\n",
      " Using Simulation name file: mfsim.nam\n",
      " \n",
      "    Solving:  Stress period:     1    Time step:     1\n",
      " \n",
      " Run end date and time (yyyy/mm/dd hh:mm:ss): 2023/01/23 15:33:20\n",
      " Elapsed run time:  0.078 Seconds\n",
      " \n",
      " Normal termination of simulation.\n"
     ]
    }
   ],
   "source": [
    "success, buff = sim.run_simulation()\n",
    "# assert success, \"MODFLOW 6 did not terminate normally\""
   ]
  },
  {
   "cell_type": "code",
   "execution_count": 15,
   "metadata": {},
   "outputs": [],
   "source": [
    "fpth = \"work/ex11/modflow_project.hds\"\n",
    "hds = f.utils.HeadFile(fpth)"
   ]
  },
  {
   "cell_type": "code",
   "execution_count": 16,
   "metadata": {},
   "outputs": [],
   "source": [
    "# kstpkper : tuple of ints\n",
    "#             A tuple containing the time step and stress period (kstp, kper).\n",
    "#             These are zero-based kstp and kper values"
   ]
  },
  {
   "cell_type": "code",
   "execution_count": 17,
   "metadata": {},
   "outputs": [],
   "source": [
    "kst=hds.get_kstpkper\n",
    "\n",
    "h = hds.get_data(kstpkper=(0,0))\n"
   ]
  },
  {
   "cell_type": "code",
   "execution_count": 18,
   "metadata": {},
   "outputs": [
    {
     "data": {
      "text/plain": [
       "array([[[1.00000000e+30, 1.00000000e+30, 1.00000000e+30, 1.00000000e+30,\n",
       "         1.00042123e+02, 1.00000000e+02, 1.00000000e+02, 1.00000000e+02,\n",
       "         1.00000000e+02, 1.00000000e+02, 1.00000000e+02, 1.00000000e+02,\n",
       "         1.00000000e+02, 1.00000000e+02, 1.00000000e+02, 1.00000000e+02,\n",
       "         1.00000000e+02, 1.00000000e+02, 1.00000000e+02, 1.00000000e+02],\n",
       "        [1.00000000e+30, 1.00000000e+30, 1.00000000e+30, 1.00000000e+30,\n",
       "         1.00064234e+02, 1.00051520e+02, 1.00047093e+02, 1.00045299e+02,\n",
       "         1.00044453e+02, 1.00043989e+02, 1.00043711e+02, 1.00043516e+02,\n",
       "         1.00043374e+02, 1.00043269e+02, 1.00043185e+02, 1.00043118e+02,\n",
       "         1.00043068e+02, 1.00043034e+02, 1.00043017e+02, 1.00000000e+30],\n",
       "        [1.00000000e+30, 1.00000000e+30, 1.00000000e+30, 1.00000000e+30,\n",
       "         1.00079095e+02, 1.00074696e+02, 1.00071543e+02, 1.00069639e+02,\n",
       "         1.00068508e+02, 1.00067782e+02, 1.00067306e+02, 1.00066959e+02,\n",
       "         1.00066695e+02, 1.00066491e+02, 1.00066327e+02, 1.00066197e+02,\n",
       "         1.00066099e+02, 1.00066032e+02, 1.00065994e+02, 1.00000000e+30],\n",
       "        [1.00000000e+30, 1.00000000e+30, 1.00000000e+30, 1.00000000e+30,\n",
       "         1.00078432e+02, 1.00076641e+02, 1.00074765e+02, 1.00073255e+02,\n",
       "         1.00072172e+02, 1.00071374e+02, 1.00070793e+02, 1.00070341e+02,\n",
       "         1.00069981e+02, 1.00069690e+02, 1.00069454e+02, 1.00069264e+02,\n",
       "         1.00069122e+02, 1.00069025e+02, 1.00068967e+02, 1.00000000e+30],\n",
       "        [1.00000000e+30, 1.00000000e+30, 1.00000000e+30, 1.00000000e+30,\n",
       "         1.00059635e+02, 1.00058749e+02, 1.00057630e+02, 1.00056512e+02,\n",
       "         1.00055580e+02, 1.00054803e+02, 1.00054179e+02, 1.00053661e+02,\n",
       "         1.00053226e+02, 1.00052862e+02, 1.00052560e+02, 1.00052314e+02,\n",
       "         1.00052128e+02, 1.00052003e+02, 1.00051928e+02, 1.00000000e+30],\n",
       "        [1.00000000e+30, 1.00000000e+30, 1.00000000e+30, 1.00000000e+30,\n",
       "         1.00021711e+02, 1.00021178e+02, 1.00020458e+02, 1.00019617e+02,\n",
       "         1.00018825e+02, 1.00018093e+02, 1.00017453e+02, 1.00016888e+02,\n",
       "         1.00016391e+02, 1.00015961e+02, 1.00015598e+02, 1.00015297e+02,\n",
       "         1.00015066e+02, 1.00014914e+02, 1.00014823e+02, 1.00000000e+30],\n",
       "        [1.00000000e+30, 1.00000000e+30, 1.00000000e+30, 1.00000000e+30,\n",
       "         9.99641890e+01, 9.99638124e+01, 9.99632928e+01, 9.99626176e+01,\n",
       "         9.99619190e+01, 9.99612199e+01, 9.99605614e+01, 9.99599534e+01,\n",
       "         9.99593956e+01, 9.99588989e+01, 9.99584731e+01, 9.99581197e+01,\n",
       "         9.99578419e+01, 9.99576600e+01, 9.99575526e+01, 1.00000000e+30],\n",
       "        [1.00000000e+30, 1.00000000e+30, 1.00000000e+30, 1.00000000e+30,\n",
       "         9.98867760e+01, 9.98864726e+01, 9.98860439e+01, 9.98854521e+01,\n",
       "         9.98847944e+01, 9.98840983e+01, 9.98834048e+01, 9.98827425e+01,\n",
       "         9.98821172e+01, 9.98815473e+01, 9.98810520e+01, 9.98806412e+01,\n",
       "         9.98803133e+01, 9.98800997e+01, 9.98799762e+01, 1.00000000e+30],\n",
       "        [1.00000000e+30, 1.00000000e+30, 1.00000000e+30, 1.00000000e+30,\n",
       "         9.97892269e+01, 9.97889549e+01, 9.97885512e+01, 9.97879815e+01,\n",
       "         9.97873158e+01, 9.97865867e+01, 9.97858302e+01, 9.97850926e+01,\n",
       "         9.97843834e+01, 9.97837272e+01, 9.97831511e+01, 9.97826734e+01,\n",
       "         9.97822897e+01, 9.97820411e+01, 9.97819016e+01, 1.00000000e+30],\n",
       "        [1.00000000e+30, 1.00000000e+30, 1.00000000e+30, 1.00000000e+30,\n",
       "         9.96712819e+01, 9.96710183e+01, 9.96705940e+01, 9.96699978e+01,\n",
       "         9.96692783e+01, 9.96684777e+01, 9.96676247e+01, 9.96667838e+01,\n",
       "         9.96659674e+01, 9.96652046e+01, 9.96645309e+01, 9.96639723e+01,\n",
       "         9.96635236e+01, 9.96632351e+01, 9.96630785e+01, 1.00000000e+30],\n",
       "        [1.00000000e+30, 1.00000000e+30, 1.00000000e+30, 1.00000000e+30,\n",
       "         9.95326541e+01, 9.95323816e+01, 9.95318991e+01, 9.95312326e+01,\n",
       "         9.95304134e+01, 9.95294992e+01, 9.95285103e+01, 9.95275311e+01,\n",
       "         9.95265785e+01, 9.95256833e+01, 9.95248895e+01, 9.95242299e+01,\n",
       "         9.95237021e+01, 9.95233654e+01, 9.95231858e+01, 1.00000000e+30],\n",
       "        [1.00000000e+30, 1.00000000e+30, 1.00000000e+30, 1.00000000e+30,\n",
       "         9.93730154e+01, 9.93727168e+01, 9.93721393e+01, 9.93713567e+01,\n",
       "         9.93703871e+01, 9.93693115e+01, 9.93681409e+01, 9.93669799e+01,\n",
       "         9.93658552e+01, 9.93647969e+01, 9.93638551e+01, 9.93630688e+01,\n",
       "         9.93624411e+01, 9.93620413e+01, 9.93618266e+01, 1.00000000e+30],\n",
       "        [1.00000000e+30, 1.00000000e+30, 1.00000000e+30, 1.00000000e+30,\n",
       "         9.91919896e+01, 9.91916435e+01, 9.91909288e+01, 9.91899760e+01,\n",
       "         9.91887952e+01, 9.91875007e+01, 9.91860965e+01, 9.91847016e+01,\n",
       "         9.91833606e+01, 9.91821026e+01, 9.91809808e+01, 9.91800372e+01,\n",
       "         9.91792822e+01, 9.91787972e+01, 9.91785311e+01, 1.00000000e+30],\n",
       "        [1.00000000e+30, 1.00000000e+30, 1.00000000e+30, 1.00000000e+30,\n",
       "         9.89891504e+01, 9.89887267e+01, 9.89878198e+01, 9.89866273e+01,\n",
       "         9.89851584e+01, 9.89835726e+01, 9.89818759e+01, 9.89801887e+01,\n",
       "         9.89785782e+01, 9.89770770e+01, 9.89757378e+01, 9.89746020e+01,\n",
       "         9.89736874e+01, 9.89730896e+01, 9.89727564e+01, 1.00000000e+30],\n",
       "        [1.00000000e+30, 1.00000000e+30, 1.00000000e+30, 1.00000000e+30,\n",
       "         9.87640266e+01, 9.87634784e+01, 9.87623003e+01, 9.87607725e+01,\n",
       "         9.87589154e+01, 9.87569437e+01, 9.87548856e+01, 9.87528448e+01,\n",
       "         9.87509059e+01, 9.87491091e+01, 9.87475062e+01, 9.87461357e+01,\n",
       "         9.87450224e+01, 9.87442797e+01, 9.87438640e+01, 1.00000000e+30],\n",
       "        [1.00000000e+30, 1.00000000e+30, 1.00000000e+30, 1.00000000e+30,\n",
       "         9.85161102e+01, 9.85153620e+01, 9.85137913e+01, 9.85117892e+01,\n",
       "         9.85094118e+01, 9.85069298e+01, 9.85044239e+01, 9.85019686e+01,\n",
       "         9.84996438e+01, 9.84974930e+01, 9.84955685e+01, 9.84939059e+01,\n",
       "         9.84925402e+01, 9.84916082e+01, 9.84910826e+01, 1.00000000e+30],\n",
       "        [1.00000000e+30, 1.00000000e+30, 1.00000000e+30, 1.00000000e+30,\n",
       "         9.82448758e+01, 9.82438012e+01, 9.82416411e+01, 9.82389516e+01,\n",
       "         9.82358769e+01, 9.82327317e+01, 9.82296681e+01, 9.82267364e+01,\n",
       "         9.82239804e+01, 9.82214241e+01, 9.82191131e+01, 9.82170820e+01,\n",
       "         9.82153823e+01, 9.82141870e+01, 9.82134984e+01, 1.00000000e+30],\n",
       "        [1.00000000e+30, 1.00000000e+30, 1.00000000e+30, 1.00000000e+30,\n",
       "         9.79498225e+01, 9.79481957e+01, 9.79451154e+01, 9.79414019e+01,\n",
       "         9.79373842e+01, 9.79334070e+01, 9.79296676e+01, 9.79261999e+01,\n",
       "         9.79229862e+01, 9.79199950e+01, 9.79172405e+01, 9.79147476e+01,\n",
       "         9.79125909e+01, 9.79110027e+01, 9.79100650e+01, 1.00000000e+30],\n",
       "        [1.00000000e+30, 1.00000000e+30, 1.00000000e+30, 1.00000000e+30,\n",
       "         9.76305688e+01, 9.76279454e+01, 9.76233633e+01, 9.76181014e+01,\n",
       "         9.76127961e+01, 9.76078168e+01, 9.76033207e+01, 9.75992890e+01,\n",
       "         9.75956204e+01, 9.75921940e+01, 9.75889546e+01, 9.75858889e+01,\n",
       "         9.75830886e+01, 9.75808783e+01, 9.75795370e+01, 1.00000000e+30],\n",
       "        [1.00000000e+30, 1.00000000e+30, 1.00000000e+30, 1.00000000e+30,\n",
       "         9.72870701e+01, 9.72824816e+01, 9.72753106e+01, 9.72677098e+01,\n",
       "         9.72606814e+01, 9.72545529e+01, 9.72493091e+01, 9.72447794e+01,\n",
       "         9.72407305e+01, 9.72369197e+01, 9.72331808e+01, 9.72294096e+01,\n",
       "         9.72256737e+01, 9.72224165e+01, 9.72203082e+01, 1.00000000e+30],\n",
       "        [1.00000000e+30, 1.00000000e+30, 1.00000000e+30, 1.00000000e+30,\n",
       "         9.69201487e+01, 9.69112653e+01, 9.68993903e+01, 9.68883066e+01,\n",
       "         9.68791466e+01, 9.68718629e+01, 9.68660428e+01, 9.68612338e+01,\n",
       "         9.68570105e+01, 9.68529759e+01, 9.68488051e+01, 9.68442136e+01,\n",
       "         9.68391121e+01, 9.68339892e+01, 9.68301859e+01, 1.00000000e+30],\n",
       "        [1.00000000e+30, 1.00000000e+30, 1.00000000e+30, 1.00000000e+30,\n",
       "         9.65328810e+01, 9.65134270e+01, 9.64928909e+01, 9.64769617e+01,\n",
       "         9.64655927e+01, 9.64575247e+01, 9.64515905e+01, 9.64469350e+01,\n",
       "         9.64429185e+01, 9.64389914e+01, 9.64346414e+01, 9.64292749e+01,\n",
       "         9.64223141e+01, 9.64137629e+01, 9.64057281e+01, 1.00000000e+30],\n",
       "        [1.00000000e+30, 1.00000000e+30, 1.00000000e+30, 1.00000000e+30,\n",
       "         9.61347070e+01, 9.60854445e+01, 9.60502142e+01, 9.60292154e+01,\n",
       "         9.60167775e+01, 9.60090425e+01, 9.60038499e+01, 9.59999978e+01,\n",
       "         9.59967339e+01, 9.59934496e+01, 9.59895024e+01, 9.59839150e+01,\n",
       "         9.59750665e+01, 9.59606309e+01, 9.59405218e+01, 1.00000000e+30],\n",
       "        [9.58647730e+01, 9.58426269e+01, 9.58015137e+01, 9.57551311e+01,\n",
       "         9.57549758e+01, 9.56097263e+01, 9.55591272e+01, 9.55386885e+01,\n",
       "         9.55290990e+01, 9.55239234e+01, 9.55207338e+01, 9.55184790e+01,\n",
       "         9.55165980e+01, 9.55146515e+01, 9.55121120e+01, 9.55079385e+01,\n",
       "         9.54995025e+01, 9.54789397e+01, 9.54198139e+01, 9.52233620e+01],\n",
       "        [9.58629430e+01, 9.58373924e+01, 9.57826696e+01, 9.56847384e+01,\n",
       "         9.54908558e+01, 9.50000000e+01, 9.50000000e+01, 9.50000000e+01,\n",
       "         9.50000000e+01, 9.50000000e+01, 9.50000000e+01, 9.50000000e+01,\n",
       "         9.50000000e+01, 9.50000000e+01, 9.50000000e+01, 9.50000000e+01,\n",
       "         9.50000000e+01, 9.50000000e+01, 9.50000000e+01, 9.50000000e+01]]])"
      ]
     },
     "execution_count": 18,
     "metadata": {},
     "output_type": "execute_result"
    }
   ],
   "source": [
    "h"
   ]
  },
  {
   "cell_type": "code",
   "execution_count": 22,
   "metadata": {},
   "outputs": [
    {
     "data": {
      "text/plain": [
       "<a list of 1025 text.Text objects>"
      ]
     },
     "execution_count": 22,
     "metadata": {},
     "output_type": "execute_result"
    },
    {
     "data": {
      "image/png": "[encoded data removed]",
      "text/plain": [
       "<Figure size 1000x1000 with 1 Axes>"
      ]
     },
     "metadata": {},
     "output_type": "display_data"
    }
   ],
   "source": [
    "plt.subplot(1,1,1, aspect=\"equal\")\n",
    "fig = plt.gcf()\n",
    "fig.set_figheight(10)\n",
    "fig.set_figwidth(10)\n",
    "head = h\n",
    "levels= np.arange(0,200,0.2)\n",
    "c=plt.contour(head[0,:,:], levels=levels, colors=\"red\")\n",
    "plt.clabel(c,fmt=\"%2.1f\")"
   ]
  },
  {
   "cell_type": "code",
   "execution_count": 20,
   "metadata": {},
   "outputs": [
    {
     "data": {
      "image/png": "[encoded data removed]",
      "text/plain": [
       "<Figure size 640x480 with 2 Axes>"
      ]
     },
     "metadata": {},
     "output_type": "display_data"
    }
   ],
   "source": [
    "m = f.plot.PlotMapView(gwf)\n",
    "# w=m.plot_bc(\"CHD\")\n",
    "mm=m.plot_array(h, masked_values=[1e30])\n",
    "m.plot_grid(lw=0.5, color=\"0.5\")\n",
    "cb = plt.colorbar(mm, shrink=0.5)"
   ]
  },
  {
   "cell_type": "code",
   "execution_count": 21,
   "metadata": {},
   "outputs": [],
   "source": [
    "# fname = os.path.join(str(modelpth), \"freyberg.cbc\")\n",
    "# cbb = f.utils.CellBudgetFile(fname)\n",
    "# frf = cbb.get_data(text=\"FLOW RIGHT FACE\")[0]\n",
    "# fff = cbb.get_data(text=\"FLOW FRONT FACE\")[0]\n",
    "# qx, qy, qz = flopy.utils.postprocessing.get_specific_discharge(\n",
    "#     (frf, fff, None), ml, head=head\n",
    "# )\n",
    "\n",
    "# fname = os.path.join(str(\"work/ex11/\"), \"._modflow_project.cbb\")\n",
    "# cbb= f.utils.CellBudgetFile(fname)\n",
    "# # y = cbb.get_data(text=\"DATA SPDIS\")[0]\n",
    "\n",
    "# frf = cbb.get_data(text=\"FLOW RIGHT FACE\")[0][0]\n",
    "# fff = cbb.get_data(text=\"FLOW FRONT FACE\")[0][0]\n",
    "# qx,qy,qz = f.utils.postprocessing.get_specific_discharge((frf,fff, None), gwf, head = h)"
   ]
  },
  {
   "cell_type": "code",
   "execution_count": null,
   "metadata": {},
   "outputs": [],
   "source": []
  }
 ],
 "metadata": {
  "kernelspec": {
   "display_name": "flopy-env",
   "language": "python",
   "name": "python3"
  },
  "language_info": {
   "codemirror_mode": {
    "name": "ipython",
    "version": 3
   },
   "file_extension": ".py",
   "mimetype": "text/x-python",
   "name": "python",
   "nbconvert_exporter": "python",
   "pygments_lexer": "ipython3",
   "version": "3.11.0"
  },
  "orig_nbformat": 4,
  "vscode": {
   "interpreter": {
    "hash": "757f38e1a9676d7c34d57611916b9906bcb6c90081bcaa73ebcbdb9977f992cb"
   }
  }
 },
 "nbformat": 4,
 "nbformat_minor": 2
}
